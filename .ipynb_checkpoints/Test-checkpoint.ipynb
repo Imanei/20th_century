{
 "cells": [
  {
   "cell_type": "markdown",
   "id": "530f9d6a-9cdf-4169-8b6b-b2c082e151cc",
   "metadata": {},
   "source": [
    "# This is a test "
   ]
  },
  {
   "cell_type": "code",
   "execution_count": 3,
   "id": "d47d337a-5b10-45a7-9631-9ed296df62b7",
   "metadata": {},
   "outputs": [
    {
     "name": "stdout",
     "output_type": "stream",
     "text": [
      "Array: [1 2 3 4 5]\n",
      "Mean of the array: 3.0\n"
     ]
    }
   ],
   "source": [
    "import numpy as np\n",
    "\n",
    "array = np.array([1, 2, 3, 4, 5])\n",
    "print(\"Array:\", array)\n",
    "print(\"Mean of the array:\", np.mean(array))"
   ]
  },
  {
   "cell_type": "code",
   "execution_count": 9,
   "id": "ac433d9c-57ac-42d1-a893-28cc6490f4bc",
   "metadata": {},
   "outputs": [
    {
     "data": {
      "text/plain": [
       "2"
      ]
     },
     "execution_count": 9,
     "metadata": {},
     "output_type": "execute_result"
    }
   ],
   "source": [
    "1+1"
   ]
  },
  {
   "cell_type": "code",
   "execution_count": null,
   "id": "f68618c9-d790-4269-9e08-57b71afb2bd5",
   "metadata": {},
   "outputs": [],
   "source": []
  }
 ],
 "metadata": {
  "kernelspec": {
   "display_name": "Python 3 (ipykernel)",
   "language": "python",
   "name": "python3"
  },
  "language_info": {
   "codemirror_mode": {
    "name": "ipython",
    "version": 3
   },
   "file_extension": ".py",
   "mimetype": "text/x-python",
   "name": "python",
   "nbconvert_exporter": "python",
   "pygments_lexer": "ipython3",
   "version": "3.12.3"
  }
 },
 "nbformat": 4,
 "nbformat_minor": 5
}
