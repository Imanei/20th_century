{
 "cells": [
  {
   "cell_type": "markdown",
   "id": "6bc90ba6-877c-47f7-bd45-2b1384bffbf0",
   "metadata": {},
   "source": [
    "## 1. Importing libraries"
   ]
  },
  {
   "cell_type": "code",
   "execution_count": 34,
   "id": "258ede51-3e22-4fac-afa7-3bd4167edbc8",
   "metadata": {},
   "outputs": [],
   "source": [
    "# Import libraries\n",
    "import pandas as pd\n",
    "import time\n",
    "from selenium import webdriver\n",
    "from selenium.webdriver.common.by import By\n",
    "from selenium.webdriver.chrome.service import Service\n",
    "from selenium.webdriver.chrome.options import Options\n",
    "import matplotlib.pyplot as plt\n",
    "import os\n",
    "import logging\n",
    "import requests\n",
    "import bs4\n",
    "from selenium import webdriver\n",
    "from webdriver_manager.chrome import ChromeDriverManager\n",
    "from bs4 import BeautifulSoup"
   ]
  },
  {
   "cell_type": "code",
   "execution_count": 31,
   "id": "6d61b1a0-24c0-4e4b-86fe-08e55362216a",
   "metadata": {},
   "outputs": [],
   "source": [
    "## Setup chrome options\n",
    "chrome_options = Options()\n",
    "chrome_options.add_argument(\"--headless\") # Ensure GUI is off\n",
    "chrome_options.add_argument(\"--no-sandbox\")"
   ]
  },
  {
   "cell_type": "code",
   "execution_count": 33,
   "id": "c7790adc-7293-473e-b054-fb95dcfa4c17",
   "metadata": {},
   "outputs": [],
   "source": [
    "chromedriver_path = r'C:\\Program Files\\chromedriver-win64\\chromedriver.exe'\n",
    "driver = webdriver.Chrome(executable_path=chromedriver_path)"
   ]
  },
  {
   "cell_type": "markdown",
   "id": "5da69a59-edb3-419d-a0b7-5ea1797e2ad0",
   "metadata": {},
   "source": [
    "## 2. Scraping Wikipedia with BeautifulSoup"
   ]
  },
  {
   "cell_type": "code",
   "execution_count": 50,
   "id": "41813a73-fb61-46a6-893a-01e6200b9bdd",
   "metadata": {},
   "outputs": [],
   "source": [
    "# Get URL\n",
    "page =  requests.get(\"https://en.wikipedia.org/wiki/Key_events_of_the_20th_century#Historic_events_in_the_20th_century\")"
   ]
  },
  {
   "cell_type": "code",
   "execution_count": 51,
   "id": "92122cb4-91ad-49c8-ad00-2411134ac6cc",
   "metadata": {},
   "outputs": [
    {
     "name": "stdout",
     "output_type": "stream",
     "text": [
      "<title>Key events of the 20th century - Wikipedia</title>\n"
     ]
    }
   ],
   "source": [
    "# Create soup and get title\n",
    "soup = BeautifulSoup(page.text, 'html.parser')\n",
    "print(soup.title)  "
   ]
  },
  {
   "cell_type": "code",
   "execution_count": 54,
   "id": "9eb33a8d-fb52-4b68-b2e9-7b8e2b4296d3",
   "metadata": {},
   "outputs": [],
   "source": [
    "# Pull the text from the HTML data\n",
    "text = soup.get_text()\n",
    "text = text.encode ('utf-8')"
   ]
  },
  {
   "cell_type": "code",
   "execution_count": 55,
   "id": "e1e96bc6-b9e1-4f58-b06f-699ed5a6336e",
   "metadata": {},
   "outputs": [],
   "source": [
    "# Write and name the text document\n",
    "path = os.path.join('C:/Users/hp/20th-century', '20th Century Events 1.4.txt')\n",
    "    \n",
    "with open(path, 'wb') as f:\n",
    "    f.write(text)"
   ]
  },
  {
   "cell_type": "markdown",
   "id": "57fd4fd4-108e-4e90-b1c4-6f0753915ee7",
   "metadata": {},
   "source": [
    "## 3. Scraping Wikipedia with Selenium"
   ]
  },
  {
   "cell_type": "markdown",
   "id": "f78a7871-337c-4f05-9516-b9d32e9217fe",
   "metadata": {},
   "source": [
    "Scraping the country names from the Wikipedia page \"List of countries\". We only want a table of all country names from this website."
   ]
  },
  {
   "cell_type": "code",
   "execution_count": null,
   "id": "e17e62a8-61d3-4954-be40-de064dd89dd8",
   "metadata": {},
   "outputs": [],
   "source": []
  }
 ],
 "metadata": {
  "kernelspec": {
   "display_name": "my_env_name",
   "language": "python",
   "name": "my_env_name"
  },
  "language_info": {
   "codemirror_mode": {
    "name": "ipython",
    "version": 3
   },
   "file_extension": ".py",
   "mimetype": "text/x-python",
   "name": "python",
   "nbconvert_exporter": "python",
   "pygments_lexer": "ipython3",
   "version": "3.10.16"
  }
 },
 "nbformat": 4,
 "nbformat_minor": 5
}
