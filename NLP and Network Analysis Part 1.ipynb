{
 "cells": [
  {
   "cell_type": "markdown",
   "id": "6bbc931a-cd3d-4264-bdb0-7c63ef7aff16",
   "metadata": {},
   "source": [
    "### This script contains the following:\n",
    "1. Importing Libraries\n",
    "2. Importing Data\n",
    "3. Data Wragling\n",
    "4. Exporting the Data"
   ]
  },
  {
   "cell_type": "markdown",
   "id": "9bac0e53-9cc3-4d12-8117-c284aebcc74b",
   "metadata": {},
   "source": [
    "## Importing libraries"
   ]
  },
  {
   "cell_type": "code",
   "execution_count": 14,
   "id": "ba5504e6-4390-448a-bfdb-8777cf985028",
   "metadata": {},
   "outputs": [],
   "source": [
    "import pandas as pd\n",
    "import numpy as np\n",
    "import spacy\n",
    "from spacy import displacy\n",
    "import networkx as nx\n",
    "import os\n",
    "import matplotlib.pyplot as plt\n",
    "import scipy\n",
    "import re\n",
    "import nltk\n",
    "from nltk.tokenize import word_tokenize"
   ]
  },
  {
   "cell_type": "markdown",
   "id": "fe7253ce-096c-4b90-a984-7f06380de29d",
   "metadata": {},
   "source": [
    "## Importing Data"
   ]
  },
  {
   "cell_type": "code",
   "execution_count": 16,
   "id": "9343072e-70a3-4510-ab7f-a3d1c46001c5",
   "metadata": {},
   "outputs": [],
   "source": [
    "# Load the article\n",
    "path = os.path.join(r'C:\\Users\\hp\\20th-century\\Data', '20th Century Events 1.4.txt')\n",
    "    \n",
    "with open(path, 'r', errors='ignore') as file:\n",
    "    data = file.read().replace('\\n', '')"
   ]
  },
  {
   "cell_type": "code",
   "execution_count": 17,
   "id": "552bdcb7-91ab-41d4-a966-abf6be9f1c60",
   "metadata": {},
   "outputs": [],
   "source": [
    "# Import the list of countries as a dataframe\n",
    "path2 = r'C:\\Users\\hp\\20th-century\\Data'\n",
    "\n",
    "countries = pd.read_csv(os.path.join(path2, 'countries_list_20th_century_1.5.csv'), index_col = 0)"
   ]
  },
  {
   "cell_type": "markdown",
   "id": "b348750c-460b-4cb1-bdca-d1b49bcad371",
   "metadata": {},
   "source": [
    "## 3.Data Wragling:"
   ]
  },
  {
   "cell_type": "markdown",
   "id": "6be46984-6035-4d9e-9ed9-cf6448f84a32",
   "metadata": {},
   "source": [
    "### 3.1. The article "
   ]
  },
  {
   "cell_type": "code",
   "execution_count": 20,
   "id": "53d56416-5d1f-4086-a211-33a377b7a29d",
   "metadata": {},
   "outputs": [],
   "source": [
    "tokenized_word = word_tokenize(data)"
   ]
  },
  {
   "cell_type": "code",
   "execution_count": 21,
   "id": "65deaa66-159c-4d8f-b32d-203f09365ea8",
   "metadata": {},
   "outputs": [],
   "source": [
    "# Remove the word 'the' from the text\n",
    "stop_word = ['the', 'The']\n",
    "filtered_words = [] \n",
    "for word in tokenized_word:\n",
    "    if word not in stop_word:\n",
    "        filtered_words.append(word)"
   ]
  },
  {
   "cell_type": "code",
   "execution_count": 22,
   "id": "f0fa8b6c-fe77-4310-9f1f-ef36a7e895d9",
   "metadata": {},
   "outputs": [],
   "source": [
    "# Substitute all punctuations marks with a space \n",
    "sans_punctuation = re.sub(r\"[',([)\\]]\",  \n",
    "                    \" \",  \n",
    "                    str(filtered_words))\n",
    "\n",
    "sans_numbers = re.sub(r\" \\d+\",\n",
    "                      \"\",\n",
    "                      str(sans_punctuation))"
   ]
  },
  {
   "cell_type": "code",
   "execution_count": 23,
   "id": "58686775-4a36-473b-861a-f819b648be85",
   "metadata": {},
   "outputs": [],
   "source": [
    "# Replacing shorthand country names in the txt file\n",
    "adding_ussr = sans_numbers.replace('USSR', 'Soviet Union')\n",
    "adding_us = adding_ussr.replace('U.S.', 'United States').replace('US', 'United States').replace('America', 'United States')\n",
    "changing_gbr = adding_us.replace('Great Britain', 'United Kingdom').replace('Britain', 'United Kingdom')\n"
   ]
  },
  {
   "cell_type": "code",
   "execution_count": 24,
   "id": "9f86ce28-a830-471e-8b7d-94eb0422923c",
   "metadata": {},
   "outputs": [],
   "source": [
    "changing_gbr = changing_gbr.replace('Soviet Union', 'the Soviet Union').replace('United States', 'the United States').replace('United Kingdom', 'the United Kingdom')"
   ]
  },
  {
   "cell_type": "markdown",
   "id": "509d88d3-a96e-4981-a1b7-0e46f585ab74",
   "metadata": {},
   "source": [
    "### 3.2. Countries csv: "
   ]
  },
  {
   "cell_type": "code",
   "execution_count": 26,
   "id": "2799d731-599c-4c68-841a-82785f89ba52",
   "metadata": {},
   "outputs": [
    {
     "data": {
      "text/plain": [
       "(209, 1)"
      ]
     },
     "execution_count": 26,
     "metadata": {},
     "output_type": "execute_result"
    }
   ],
   "source": [
    "countries.shape\n"
   ]
  },
  {
   "cell_type": "code",
   "execution_count": 27,
   "id": "e2c60e62-e952-48a5-917e-90505e061124",
   "metadata": {},
   "outputs": [
    {
     "data": {
      "text/html": [
       "<div>\n",
       "<style scoped>\n",
       "    .dataframe tbody tr th:only-of-type {\n",
       "        vertical-align: middle;\n",
       "    }\n",
       "\n",
       "    .dataframe tbody tr th {\n",
       "        vertical-align: top;\n",
       "    }\n",
       "\n",
       "    .dataframe thead th {\n",
       "        text-align: right;\n",
       "    }\n",
       "</style>\n",
       "<table border=\"1\" class=\"dataframe\">\n",
       "  <thead>\n",
       "    <tr style=\"text-align: right;\">\n",
       "      <th></th>\n",
       "      <th>country_name</th>\n",
       "    </tr>\n",
       "    <tr>\n",
       "      <th>Column1</th>\n",
       "      <th></th>\n",
       "    </tr>\n",
       "  </thead>\n",
       "  <tbody>\n",
       "    <tr>\n",
       "      <th>1.0</th>\n",
       "      <td>Afghanistan</td>\n",
       "    </tr>\n",
       "    <tr>\n",
       "      <th>2.0</th>\n",
       "      <td>Albania</td>\n",
       "    </tr>\n",
       "    <tr>\n",
       "      <th>3.0</th>\n",
       "      <td>Algeria</td>\n",
       "    </tr>\n",
       "    <tr>\n",
       "      <th>4.0</th>\n",
       "      <td>Andorra</td>\n",
       "    </tr>\n",
       "    <tr>\n",
       "      <th>5.0</th>\n",
       "      <td>Angola</td>\n",
       "    </tr>\n",
       "  </tbody>\n",
       "</table>\n",
       "</div>"
      ],
      "text/plain": [
       "          country_name\n",
       "Column1               \n",
       "1.0       Afghanistan \n",
       "2.0           Albania \n",
       "3.0           Algeria \n",
       "4.0           Andorra \n",
       "5.0            Angola "
      ]
     },
     "execution_count": 27,
     "metadata": {},
     "output_type": "execute_result"
    }
   ],
   "source": [
    "countries.head()"
   ]
  },
  {
   "cell_type": "code",
   "execution_count": 28,
   "id": "6e411b1a-724b-4fba-aa90-c32eab233115",
   "metadata": {},
   "outputs": [
    {
     "data": {
      "text/html": [
       "<div>\n",
       "<style scoped>\n",
       "    .dataframe tbody tr th:only-of-type {\n",
       "        vertical-align: middle;\n",
       "    }\n",
       "\n",
       "    .dataframe tbody tr th {\n",
       "        vertical-align: top;\n",
       "    }\n",
       "\n",
       "    .dataframe thead th {\n",
       "        text-align: right;\n",
       "    }\n",
       "</style>\n",
       "<table border=\"1\" class=\"dataframe\">\n",
       "  <thead>\n",
       "    <tr style=\"text-align: right;\">\n",
       "      <th></th>\n",
       "      <th>country_name</th>\n",
       "    </tr>\n",
       "  </thead>\n",
       "  <tbody>\n",
       "    <tr>\n",
       "      <th>0</th>\n",
       "      <td>Afghanistan</td>\n",
       "    </tr>\n",
       "    <tr>\n",
       "      <th>1</th>\n",
       "      <td>Albania</td>\n",
       "    </tr>\n",
       "    <tr>\n",
       "      <th>2</th>\n",
       "      <td>Algeria</td>\n",
       "    </tr>\n",
       "    <tr>\n",
       "      <th>3</th>\n",
       "      <td>Andorra</td>\n",
       "    </tr>\n",
       "    <tr>\n",
       "      <th>4</th>\n",
       "      <td>Angola</td>\n",
       "    </tr>\n",
       "    <tr>\n",
       "      <th>...</th>\n",
       "      <td>...</td>\n",
       "    </tr>\n",
       "    <tr>\n",
       "      <th>209</th>\n",
       "      <td>Soviet Union</td>\n",
       "    </tr>\n",
       "    <tr>\n",
       "      <th>210</th>\n",
       "      <td>Yugoslavia</td>\n",
       "    </tr>\n",
       "    <tr>\n",
       "      <th>211</th>\n",
       "      <td>Czechoslovakia</td>\n",
       "    </tr>\n",
       "    <tr>\n",
       "      <th>212</th>\n",
       "      <td>Burma</td>\n",
       "    </tr>\n",
       "    <tr>\n",
       "      <th>213</th>\n",
       "      <td>Guam</td>\n",
       "    </tr>\n",
       "  </tbody>\n",
       "</table>\n",
       "<p>214 rows × 1 columns</p>\n",
       "</div>"
      ],
      "text/plain": [
       "       country_name\n",
       "0      Afghanistan \n",
       "1          Albania \n",
       "2          Algeria \n",
       "3          Andorra \n",
       "4           Angola \n",
       "..              ...\n",
       "209    Soviet Union\n",
       "210      Yugoslavia\n",
       "211  Czechoslovakia\n",
       "212           Burma\n",
       "213            Guam\n",
       "\n",
       "[214 rows x 1 columns]"
      ]
     },
     "execution_count": 28,
     "metadata": {},
     "output_type": "execute_result"
    }
   ],
   "source": [
    "#Adding countries that have ceased to exist and were not on the list before\n",
    "new_countries = [['Soviet Union'], ['Yugoslavia'], ['Czechoslovakia'], ['Burma'], ['Guam']]\n",
    "df_new_countries = pd.DataFrame(new_countries, columns = ['country_name'])\n",
    "combined_countries = pd.concat([countries, df_new_countries], ignore_index=True)\n",
    "combined_countries"
   ]
  },
  {
   "cell_type": "code",
   "execution_count": 29,
   "id": "506305c8-3994-4d72-b44b-2bea303104c2",
   "metadata": {},
   "outputs": [
    {
     "data": {
      "text/html": [
       "<div>\n",
       "<style scoped>\n",
       "    .dataframe tbody tr th:only-of-type {\n",
       "        vertical-align: middle;\n",
       "    }\n",
       "\n",
       "    .dataframe tbody tr th {\n",
       "        vertical-align: top;\n",
       "    }\n",
       "\n",
       "    .dataframe thead th {\n",
       "        text-align: right;\n",
       "    }\n",
       "</style>\n",
       "<table border=\"1\" class=\"dataframe\">\n",
       "  <thead>\n",
       "    <tr style=\"text-align: right;\">\n",
       "      <th></th>\n",
       "      <th>country_name</th>\n",
       "      <th>country_alias</th>\n",
       "    </tr>\n",
       "  </thead>\n",
       "  <tbody>\n",
       "    <tr>\n",
       "      <th>0</th>\n",
       "      <td>Afghanistan</td>\n",
       "      <td>Afghanistan</td>\n",
       "    </tr>\n",
       "    <tr>\n",
       "      <th>1</th>\n",
       "      <td>Albania</td>\n",
       "      <td>Albania</td>\n",
       "    </tr>\n",
       "    <tr>\n",
       "      <th>2</th>\n",
       "      <td>Algeria</td>\n",
       "      <td>Algeria</td>\n",
       "    </tr>\n",
       "    <tr>\n",
       "      <th>3</th>\n",
       "      <td>Andorra</td>\n",
       "      <td>Andorra</td>\n",
       "    </tr>\n",
       "    <tr>\n",
       "      <th>4</th>\n",
       "      <td>Angola</td>\n",
       "      <td>Angola</td>\n",
       "    </tr>\n",
       "    <tr>\n",
       "      <th>...</th>\n",
       "      <td>...</td>\n",
       "      <td>...</td>\n",
       "    </tr>\n",
       "    <tr>\n",
       "      <th>209</th>\n",
       "      <td>Soviet Union</td>\n",
       "      <td>Soviet Union</td>\n",
       "    </tr>\n",
       "    <tr>\n",
       "      <th>210</th>\n",
       "      <td>Yugoslavia</td>\n",
       "      <td>Yugoslavia</td>\n",
       "    </tr>\n",
       "    <tr>\n",
       "      <th>211</th>\n",
       "      <td>Czechoslovakia</td>\n",
       "      <td>Czechoslovakia</td>\n",
       "    </tr>\n",
       "    <tr>\n",
       "      <th>212</th>\n",
       "      <td>Burma</td>\n",
       "      <td>Burma</td>\n",
       "    </tr>\n",
       "    <tr>\n",
       "      <th>213</th>\n",
       "      <td>Guam</td>\n",
       "      <td>Guam</td>\n",
       "    </tr>\n",
       "  </tbody>\n",
       "</table>\n",
       "<p>214 rows × 2 columns</p>\n",
       "</div>"
      ],
      "text/plain": [
       "       country_name   country_alias\n",
       "0      Afghanistan     Afghanistan \n",
       "1          Albania         Albania \n",
       "2          Algeria         Algeria \n",
       "3          Andorra         Andorra \n",
       "4           Angola          Angola \n",
       "..              ...             ...\n",
       "209    Soviet Union    Soviet Union\n",
       "210      Yugoslavia      Yugoslavia\n",
       "211  Czechoslovakia  Czechoslovakia\n",
       "212           Burma           Burma\n",
       "213            Guam            Guam\n",
       "\n",
       "[214 rows x 2 columns]"
      ]
     },
     "execution_count": 29,
     "metadata": {},
     "output_type": "execute_result"
    }
   ],
   "source": [
    "combined_countries['country_alias'] = combined_countries['country_name']\n",
    "combined_countries"
   ]
  },
  {
   "cell_type": "code",
   "execution_count": 30,
   "id": "5b729c2b-2da2-4cca-8e5c-eb8f9cfeffee",
   "metadata": {},
   "outputs": [],
   "source": [
    "# Create aliases for countries to match how they are referred in the article\n",
    "combined_countries['country_alias'] = combined_countries['country_alias'].replace(\"  China, People's Republic of \", \"China\")\n",
    "combined_countries['country_alias'] = combined_countries['country_alias'].replace(\"   Micronesia, Federated States of \", \"Micronesia\")\n",
    "combined_countries['country_alias'] = combined_countries['country_alias'].replace(\"   North Macedonia \", \"Macedonia\")\n",
    "combined_countries['country_alias'] = combined_countries['country_alias'].replace(\"  Bosnia and Herzegovina \", \"Bosnia\")\n",
    "combined_countries['country_alias'] = combined_countries['country_alias'].replace(\"  East Timor \", \"Timor\")\n",
    "combined_countries['country_alias'] = combined_countries['country_alias'].replace(\"   São Tomé and Príncipe \", \"Príncipe\")\n",
    "combined_countries['country_alias'] = combined_countries['country_alias'].replace(\"   Korea, North \", \"North Korea\")\n",
    "combined_countries['country_alias'] = combined_countries['country_alias'].replace(\"   Korea, South \", \"South Korea\")\n",
    "combined_countries['country_alias'] = combined_countries['country_alias'].replace(\"Soviet Union\", \"the Soviet Union\")\n",
    "combined_countries['country_alias'] = combined_countries['country_alias'].replace(\"   United States \", \"the United States\")\n",
    "combined_countries['country_alias'] = combined_countries['country_alias'].replace(\"   United Kingdom \", \"the United Kingdom\")"
   ]
  },
  {
   "cell_type": "code",
   "execution_count": 31,
   "id": "9533e118-e90a-4f4c-927d-9b0556edabe7",
   "metadata": {},
   "outputs": [],
   "source": [
    "country_list = combined_countries['country_alias'].to_list()\n"
   ]
  },
  {
   "cell_type": "code",
   "execution_count": 32,
   "id": "a4658972-3cf7-4fbb-ae56-fe1827b8dcff",
   "metadata": {},
   "outputs": [],
   "source": [
    "# For every item in the list, take out the additional spaces and add them to a new list\n",
    "cleaned_country_list = [\n",
    "    str(item).strip() if isinstance(item, str) else str(item).strip() for item in country_list\n",
    "]"
   ]
  },
  {
   "cell_type": "code",
   "execution_count": 33,
   "id": "8ef95d19-816c-421f-adfc-f46d29a068b4",
   "metadata": {},
   "outputs": [],
   "source": [
    "# Convert the list to a dataframe and rename the column\n",
    "df_cleaned_countries = combined_countries\n",
    "df_cleaned_countries['clean_country_alias'] = cleaned_country_list"
   ]
  },
  {
   "cell_type": "code",
   "execution_count": 34,
   "id": "42efbc8e-e758-4c1c-855f-d81568409c71",
   "metadata": {},
   "outputs": [
    {
     "data": {
      "text/html": [
       "<div>\n",
       "<style scoped>\n",
       "    .dataframe tbody tr th:only-of-type {\n",
       "        vertical-align: middle;\n",
       "    }\n",
       "\n",
       "    .dataframe tbody tr th {\n",
       "        vertical-align: top;\n",
       "    }\n",
       "\n",
       "    .dataframe thead th {\n",
       "        text-align: right;\n",
       "    }\n",
       "</style>\n",
       "<table border=\"1\" class=\"dataframe\">\n",
       "  <thead>\n",
       "    <tr style=\"text-align: right;\">\n",
       "      <th></th>\n",
       "      <th>country_name</th>\n",
       "      <th>country_alias</th>\n",
       "      <th>clean_country_alias</th>\n",
       "    </tr>\n",
       "  </thead>\n",
       "  <tbody>\n",
       "    <tr>\n",
       "      <th>0</th>\n",
       "      <td>Afghanistan</td>\n",
       "      <td>Afghanistan</td>\n",
       "      <td>Afghanistan</td>\n",
       "    </tr>\n",
       "    <tr>\n",
       "      <th>1</th>\n",
       "      <td>Albania</td>\n",
       "      <td>Albania</td>\n",
       "      <td>Albania</td>\n",
       "    </tr>\n",
       "    <tr>\n",
       "      <th>2</th>\n",
       "      <td>Algeria</td>\n",
       "      <td>Algeria</td>\n",
       "      <td>Algeria</td>\n",
       "    </tr>\n",
       "    <tr>\n",
       "      <th>3</th>\n",
       "      <td>Andorra</td>\n",
       "      <td>Andorra</td>\n",
       "      <td>Andorra</td>\n",
       "    </tr>\n",
       "    <tr>\n",
       "      <th>4</th>\n",
       "      <td>Angola</td>\n",
       "      <td>Angola</td>\n",
       "      <td>Angola</td>\n",
       "    </tr>\n",
       "    <tr>\n",
       "      <th>...</th>\n",
       "      <td>...</td>\n",
       "      <td>...</td>\n",
       "      <td>...</td>\n",
       "    </tr>\n",
       "    <tr>\n",
       "      <th>209</th>\n",
       "      <td>Soviet Union</td>\n",
       "      <td>the Soviet Union</td>\n",
       "      <td>the Soviet Union</td>\n",
       "    </tr>\n",
       "    <tr>\n",
       "      <th>210</th>\n",
       "      <td>Yugoslavia</td>\n",
       "      <td>Yugoslavia</td>\n",
       "      <td>Yugoslavia</td>\n",
       "    </tr>\n",
       "    <tr>\n",
       "      <th>211</th>\n",
       "      <td>Czechoslovakia</td>\n",
       "      <td>Czechoslovakia</td>\n",
       "      <td>Czechoslovakia</td>\n",
       "    </tr>\n",
       "    <tr>\n",
       "      <th>212</th>\n",
       "      <td>Burma</td>\n",
       "      <td>Burma</td>\n",
       "      <td>Burma</td>\n",
       "    </tr>\n",
       "    <tr>\n",
       "      <th>213</th>\n",
       "      <td>Guam</td>\n",
       "      <td>Guam</td>\n",
       "      <td>Guam</td>\n",
       "    </tr>\n",
       "  </tbody>\n",
       "</table>\n",
       "<p>214 rows × 3 columns</p>\n",
       "</div>"
      ],
      "text/plain": [
       "       country_name     country_alias clean_country_alias\n",
       "0      Afghanistan       Afghanistan          Afghanistan\n",
       "1          Albania           Albania              Albania\n",
       "2          Algeria           Algeria              Algeria\n",
       "3          Andorra           Andorra              Andorra\n",
       "4           Angola            Angola               Angola\n",
       "..              ...               ...                 ...\n",
       "209    Soviet Union  the Soviet Union    the Soviet Union\n",
       "210      Yugoslavia        Yugoslavia          Yugoslavia\n",
       "211  Czechoslovakia    Czechoslovakia      Czechoslovakia\n",
       "212           Burma             Burma               Burma\n",
       "213            Guam              Guam                Guam\n",
       "\n",
       "[214 rows x 3 columns]"
      ]
     },
     "execution_count": 34,
     "metadata": {},
     "output_type": "execute_result"
    }
   ],
   "source": [
    "# Check the output\n",
    "df_cleaned_countries"
   ]
  },
  {
   "cell_type": "markdown",
   "id": "11e003d7-d4fe-433c-b020-750678b97136",
   "metadata": {},
   "source": [
    "## 4. Exporting the Data"
   ]
  },
  {
   "cell_type": "code",
   "execution_count": 36,
   "id": "374c8974-e67c-400c-8b43-73b7b73ca0cd",
   "metadata": {},
   "outputs": [],
   "source": [
    "# Define the directory path\n",
    "dir_path = r'C:\\Users\\hp\\20th-century\\Data'\n",
    "# Join with the filename\n",
    "path3 = os.path.join(dir_path, '20th Century Events_sans_punc.txt')\n",
    "# Write to the file\n",
    "with open(path3, 'w') as f:\n",
    "    f.write(changing_gbr)"
   ]
  },
  {
   "cell_type": "code",
   "execution_count": 60,
   "id": "9dec2433-228c-4bb4-afed-0047de8e5d8d",
   "metadata": {},
   "outputs": [],
   "source": [
    "# Save the new countries list dataframe in the Data folder\n",
    "df_cleaned_countries.to_csv(os.path.join(path2, 'cleaned_countries_list.csv'))"
   ]
  }
 ],
 "metadata": {
  "kernelspec": {
   "display_name": "Python (mining_env)",
   "language": "python",
   "name": "mining_env"
  },
  "language_info": {
   "codemirror_mode": {
    "name": "ipython",
    "version": 3
   },
   "file_extension": ".py",
   "mimetype": "text/x-python",
   "name": "python",
   "nbconvert_exporter": "python",
   "pygments_lexer": "ipython3",
   "version": "3.10.16"
  }
 },
 "nbformat": 4,
 "nbformat_minor": 5
}
