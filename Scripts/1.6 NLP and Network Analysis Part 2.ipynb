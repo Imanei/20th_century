{
 "cells": [
  {
   "cell_type": "markdown",
   "id": "3edf26e0-8636-4a61-a1da-e5217adb3822",
   "metadata": {},
   "source": [
    "### This script contains the following:\n",
    "1. Importing Libraries\n",
    "2. Importing Data\n",
    "3. Creating Named Entity Recognition Object\n",
    "4. Splitting the Sentence Entities\n",
    "5. Filtering the Entities Using the Country List\n",
    "6. Creating a Relationship Dataframe\n",
    "7. Exporting the Data"
   ]
  },
  {
   "cell_type": "code",
   "execution_count": 2,
   "id": "8949f1d2-79ed-457b-b135-0bf44aac1a1a",
   "metadata": {},
   "outputs": [],
   "source": [
    "import pandas as pd\n",
    "import numpy as np\n",
    "import spacy\n",
    "from spacy import displacy\n",
    "import networkx as nx\n",
    "import os\n",
    "import matplotlib.pyplot as plt\n",
    "import scipy\n",
    "import re\n",
    "import nltk\n",
    "from nltk.tokenize import word_tokenize"
   ]
  },
  {
   "cell_type": "code",
   "execution_count": 3,
   "id": "2a3986d3-8dba-4d06-92b4-2d16d4123a3b",
   "metadata": {},
   "outputs": [
    {
     "name": "stdout",
     "output_type": "stream",
     "text": [
      "Collecting en-core-web-sm==3.4.1\n",
      "  Downloading https://github.com/explosion/spacy-models/releases/download/en_core_web_sm-3.4.1/en_core_web_sm-3.4.1-py3-none-any.whl (12.8 MB)\n",
      "     ---------------------------------------- 0.0/12.8 MB ? eta -:--:--\n",
      "     -- ------------------------------------- 0.8/12.8 MB 4.8 MB/s eta 0:00:03\n",
      "     ----- ---------------------------------- 1.8/12.8 MB 4.6 MB/s eta 0:00:03\n",
      "     -------- ------------------------------- 2.6/12.8 MB 4.7 MB/s eta 0:00:03\n",
      "     ----------- ---------------------------- 3.7/12.8 MB 4.7 MB/s eta 0:00:02\n",
      "     -------------- ------------------------- 4.7/12.8 MB 4.7 MB/s eta 0:00:02\n",
      "     ------------------ --------------------- 5.8/12.8 MB 4.7 MB/s eta 0:00:02\n",
      "     --------------------- ------------------ 6.8/12.8 MB 4.7 MB/s eta 0:00:02\n",
      "     ----------------------- ---------------- 7.6/12.8 MB 4.7 MB/s eta 0:00:02\n",
      "     --------------------------- ------------ 8.7/12.8 MB 4.5 MB/s eta 0:00:01\n",
      "     ------------------------------ --------- 9.7/12.8 MB 4.6 MB/s eta 0:00:01\n",
      "     -------------------------------- ------- 10.5/12.8 MB 4.6 MB/s eta 0:00:01\n",
      "     ------------------------------------ --- 11.5/12.8 MB 4.6 MB/s eta 0:00:01\n",
      "     ---------------------------------------  12.6/12.8 MB 4.6 MB/s eta 0:00:01\n",
      "     ---------------------------------------- 12.8/12.8 MB 4.5 MB/s eta 0:00:00\n",
      "Requirement already satisfied: spacy<3.5.0,>=3.4.0 in c:\\users\\hp\\anaconda3\\envs\\mining_env\\lib\\site-packages (from en-core-web-sm==3.4.1) (3.4.3)\n",
      "Requirement already satisfied: spacy-legacy<3.1.0,>=3.0.10 in c:\\users\\hp\\anaconda3\\envs\\mining_env\\lib\\site-packages (from spacy<3.5.0,>=3.4.0->en-core-web-sm==3.4.1) (3.0.12)\n",
      "Requirement already satisfied: spacy-loggers<2.0.0,>=1.0.0 in c:\\users\\hp\\anaconda3\\envs\\mining_env\\lib\\site-packages (from spacy<3.5.0,>=3.4.0->en-core-web-sm==3.4.1) (1.0.5)\n",
      "Requirement already satisfied: murmurhash<1.1.0,>=0.28.0 in c:\\users\\hp\\anaconda3\\envs\\mining_env\\lib\\site-packages (from spacy<3.5.0,>=3.4.0->en-core-web-sm==3.4.1) (1.0.12)\n",
      "Requirement already satisfied: cymem<2.1.0,>=2.0.2 in c:\\users\\hp\\anaconda3\\envs\\mining_env\\lib\\site-packages (from spacy<3.5.0,>=3.4.0->en-core-web-sm==3.4.1) (2.0.11)\n",
      "Requirement already satisfied: preshed<3.1.0,>=3.0.2 in c:\\users\\hp\\anaconda3\\envs\\mining_env\\lib\\site-packages (from spacy<3.5.0,>=3.4.0->en-core-web-sm==3.4.1) (3.0.9)\n",
      "Requirement already satisfied: thinc<8.2.0,>=8.1.0 in c:\\users\\hp\\anaconda3\\envs\\mining_env\\lib\\site-packages (from spacy<3.5.0,>=3.4.0->en-core-web-sm==3.4.1) (8.1.12)\n",
      "Requirement already satisfied: wasabi<1.1.0,>=0.9.1 in c:\\users\\hp\\anaconda3\\envs\\mining_env\\lib\\site-packages (from spacy<3.5.0,>=3.4.0->en-core-web-sm==3.4.1) (0.10.1)\n",
      "Requirement already satisfied: srsly<3.0.0,>=2.4.3 in c:\\users\\hp\\anaconda3\\envs\\mining_env\\lib\\site-packages (from spacy<3.5.0,>=3.4.0->en-core-web-sm==3.4.1) (2.5.1)\n",
      "Requirement already satisfied: catalogue<2.1.0,>=2.0.6 in c:\\users\\hp\\anaconda3\\envs\\mining_env\\lib\\site-packages (from spacy<3.5.0,>=3.4.0->en-core-web-sm==3.4.1) (2.0.10)\n",
      "Requirement already satisfied: typer<0.8.0,>=0.3.0 in c:\\users\\hp\\anaconda3\\envs\\mining_env\\lib\\site-packages (from spacy<3.5.0,>=3.4.0->en-core-web-sm==3.4.1) (0.7.0)\n",
      "Requirement already satisfied: pathy>=0.3.5 in c:\\users\\hp\\anaconda3\\envs\\mining_env\\lib\\site-packages (from spacy<3.5.0,>=3.4.0->en-core-web-sm==3.4.1) (0.11.0)\n",
      "Requirement already satisfied: tqdm<5.0.0,>=4.38.0 in c:\\users\\hp\\appdata\\roaming\\python\\python310\\site-packages (from spacy<3.5.0,>=3.4.0->en-core-web-sm==3.4.1) (4.67.1)\n",
      "Requirement already satisfied: numpy>=1.15.0 in c:\\users\\hp\\appdata\\roaming\\python\\python310\\site-packages (from spacy<3.5.0,>=3.4.0->en-core-web-sm==3.4.1) (1.22.1)\n",
      "Requirement already satisfied: requests<3.0.0,>=2.13.0 in c:\\users\\hp\\appdata\\roaming\\python\\python310\\site-packages (from spacy<3.5.0,>=3.4.0->en-core-web-sm==3.4.1) (2.32.3)\n",
      "Requirement already satisfied: pydantic!=1.8,!=1.8.1,<1.11.0,>=1.7.4 in c:\\users\\hp\\anaconda3\\envs\\mining_env\\lib\\site-packages (from spacy<3.5.0,>=3.4.0->en-core-web-sm==3.4.1) (1.10.21)\n",
      "Requirement already satisfied: jinja2 in c:\\users\\hp\\appdata\\roaming\\python\\python310\\site-packages (from spacy<3.5.0,>=3.4.0->en-core-web-sm==3.4.1) (3.1.5)\n",
      "Requirement already satisfied: setuptools in c:\\users\\hp\\anaconda3\\envs\\mining_env\\lib\\site-packages (from spacy<3.5.0,>=3.4.0->en-core-web-sm==3.4.1) (75.1.0)\n",
      "Requirement already satisfied: packaging>=20.0 in c:\\users\\hp\\appdata\\roaming\\python\\python310\\site-packages (from spacy<3.5.0,>=3.4.0->en-core-web-sm==3.4.1) (24.2)\n",
      "Requirement already satisfied: langcodes<4.0.0,>=3.2.0 in c:\\users\\hp\\anaconda3\\envs\\mining_env\\lib\\site-packages (from spacy<3.5.0,>=3.4.0->en-core-web-sm==3.4.1) (3.5.0)\n",
      "Requirement already satisfied: language-data>=1.2 in c:\\users\\hp\\anaconda3\\envs\\mining_env\\lib\\site-packages (from langcodes<4.0.0,>=3.2.0->spacy<3.5.0,>=3.4.0->en-core-web-sm==3.4.1) (1.3.0)\n",
      "Requirement already satisfied: smart-open<7.0.0,>=5.2.1 in c:\\users\\hp\\anaconda3\\envs\\mining_env\\lib\\site-packages (from pathy>=0.3.5->spacy<3.5.0,>=3.4.0->en-core-web-sm==3.4.1) (6.4.0)\n",
      "Requirement already satisfied: pathlib-abc==0.1.1 in c:\\users\\hp\\anaconda3\\envs\\mining_env\\lib\\site-packages (from pathy>=0.3.5->spacy<3.5.0,>=3.4.0->en-core-web-sm==3.4.1) (0.1.1)\n",
      "Requirement already satisfied: typing-extensions>=4.2.0 in c:\\users\\hp\\appdata\\roaming\\python\\python310\\site-packages (from pydantic!=1.8,!=1.8.1,<1.11.0,>=1.7.4->spacy<3.5.0,>=3.4.0->en-core-web-sm==3.4.1) (4.12.2)\n",
      "Requirement already satisfied: charset-normalizer<4,>=2 in c:\\users\\hp\\appdata\\roaming\\python\\python310\\site-packages (from requests<3.0.0,>=2.13.0->spacy<3.5.0,>=3.4.0->en-core-web-sm==3.4.1) (3.4.1)\n",
      "Requirement already satisfied: idna<4,>=2.5 in c:\\users\\hp\\appdata\\roaming\\python\\python310\\site-packages (from requests<3.0.0,>=2.13.0->spacy<3.5.0,>=3.4.0->en-core-web-sm==3.4.1) (3.10)\n",
      "Requirement already satisfied: urllib3<3,>=1.21.1 in c:\\users\\hp\\appdata\\roaming\\python\\python310\\site-packages (from requests<3.0.0,>=2.13.0->spacy<3.5.0,>=3.4.0->en-core-web-sm==3.4.1) (2.3.0)\n",
      "Requirement already satisfied: certifi>=2017.4.17 in c:\\users\\hp\\appdata\\roaming\\python\\python310\\site-packages (from requests<3.0.0,>=2.13.0->spacy<3.5.0,>=3.4.0->en-core-web-sm==3.4.1) (2024.12.14)\n",
      "Requirement already satisfied: blis<0.8.0,>=0.7.8 in c:\\users\\hp\\anaconda3\\envs\\mining_env\\lib\\site-packages (from thinc<8.2.0,>=8.1.0->spacy<3.5.0,>=3.4.0->en-core-web-sm==3.4.1) (0.7.11)\n",
      "Requirement already satisfied: confection<1.0.0,>=0.0.1 in c:\\users\\hp\\anaconda3\\envs\\mining_env\\lib\\site-packages (from thinc<8.2.0,>=8.1.0->spacy<3.5.0,>=3.4.0->en-core-web-sm==3.4.1) (0.1.5)\n",
      "Requirement already satisfied: colorama in c:\\users\\hp\\appdata\\roaming\\python\\python310\\site-packages (from tqdm<5.0.0,>=4.38.0->spacy<3.5.0,>=3.4.0->en-core-web-sm==3.4.1) (0.4.6)\n",
      "Requirement already satisfied: click<9.0.0,>=7.1.1 in c:\\users\\hp\\anaconda3\\envs\\mining_env\\lib\\site-packages (from typer<0.8.0,>=0.3.0->spacy<3.5.0,>=3.4.0->en-core-web-sm==3.4.1) (8.1.8)\n",
      "Requirement already satisfied: MarkupSafe>=2.0 in c:\\users\\hp\\appdata\\roaming\\python\\python310\\site-packages (from jinja2->spacy<3.5.0,>=3.4.0->en-core-web-sm==3.4.1) (3.0.2)\n",
      "Requirement already satisfied: marisa-trie>=1.1.0 in c:\\users\\hp\\anaconda3\\envs\\mining_env\\lib\\site-packages (from language-data>=1.2->langcodes<4.0.0,>=3.2.0->spacy<3.5.0,>=3.4.0->en-core-web-sm==3.4.1) (1.2.1)\n",
      "[+] Download and installation successful\n",
      "You can now load the package via spacy.load('en_core_web_sm')\n"
     ]
    }
   ],
   "source": [
    "!C:\\Users\\hp\\anaconda3\\envs\\mining_env\\python.exe -m spacy download en_core_web_sm\n"
   ]
  },
  {
   "cell_type": "code",
   "execution_count": 30,
   "id": "688164b0-1afd-4539-9715-8e95d7fc3c76",
   "metadata": {},
   "outputs": [
    {
     "ename": "OSError",
     "evalue": "[E050] Can't find model 'en_core_web_sm'. It doesn't seem to be a Python package or a valid path to a data directory.",
     "output_type": "error",
     "traceback": [
      "\u001b[1;31m---------------------------------------------------------------------------\u001b[0m",
      "\u001b[1;31mOSError\u001b[0m                                   Traceback (most recent call last)",
      "Cell \u001b[1;32mIn[30], line 2\u001b[0m\n\u001b[0;32m      1\u001b[0m \u001b[38;5;66;03m# Load spacy English module\u001b[39;00m\n\u001b[1;32m----> 2\u001b[0m NER \u001b[38;5;241m=\u001b[39m \u001b[43mspacy\u001b[49m\u001b[38;5;241;43m.\u001b[39;49m\u001b[43mload\u001b[49m\u001b[43m(\u001b[49m\u001b[38;5;124;43m\"\u001b[39;49m\u001b[38;5;124;43men_core_web_sm\u001b[39;49m\u001b[38;5;124;43m\"\u001b[39;49m\u001b[43m)\u001b[49m\n",
      "File \u001b[1;32m~\\anaconda3\\envs\\task6\\lib\\site-packages\\spacy\\__init__.py:54\u001b[0m, in \u001b[0;36mload\u001b[1;34m(name, vocab, disable, enable, exclude, config)\u001b[0m\n\u001b[0;32m     30\u001b[0m \u001b[38;5;28;01mdef\u001b[39;00m\u001b[38;5;250m \u001b[39m\u001b[38;5;21mload\u001b[39m(\n\u001b[0;32m     31\u001b[0m     name: Union[\u001b[38;5;28mstr\u001b[39m, Path],\n\u001b[0;32m     32\u001b[0m     \u001b[38;5;241m*\u001b[39m,\n\u001b[1;32m   (...)\u001b[0m\n\u001b[0;32m     37\u001b[0m     config: Union[Dict[\u001b[38;5;28mstr\u001b[39m, Any], Config] \u001b[38;5;241m=\u001b[39m util\u001b[38;5;241m.\u001b[39mSimpleFrozenDict(),\n\u001b[0;32m     38\u001b[0m ) \u001b[38;5;241m-\u001b[39m\u001b[38;5;241m>\u001b[39m Language:\n\u001b[0;32m     39\u001b[0m \u001b[38;5;250m    \u001b[39m\u001b[38;5;124;03m\"\"\"Load a spaCy model from an installed package or a local path.\u001b[39;00m\n\u001b[0;32m     40\u001b[0m \n\u001b[0;32m     41\u001b[0m \u001b[38;5;124;03m    name (str): Package name or model path.\u001b[39;00m\n\u001b[1;32m   (...)\u001b[0m\n\u001b[0;32m     52\u001b[0m \u001b[38;5;124;03m    RETURNS (Language): The loaded nlp object.\u001b[39;00m\n\u001b[0;32m     53\u001b[0m \u001b[38;5;124;03m    \"\"\"\u001b[39;00m\n\u001b[1;32m---> 54\u001b[0m     \u001b[38;5;28;01mreturn\u001b[39;00m \u001b[43mutil\u001b[49m\u001b[38;5;241;43m.\u001b[39;49m\u001b[43mload_model\u001b[49m\u001b[43m(\u001b[49m\n\u001b[0;32m     55\u001b[0m \u001b[43m        \u001b[49m\u001b[43mname\u001b[49m\u001b[43m,\u001b[49m\n\u001b[0;32m     56\u001b[0m \u001b[43m        \u001b[49m\u001b[43mvocab\u001b[49m\u001b[38;5;241;43m=\u001b[39;49m\u001b[43mvocab\u001b[49m\u001b[43m,\u001b[49m\n\u001b[0;32m     57\u001b[0m \u001b[43m        \u001b[49m\u001b[43mdisable\u001b[49m\u001b[38;5;241;43m=\u001b[39;49m\u001b[43mdisable\u001b[49m\u001b[43m,\u001b[49m\n\u001b[0;32m     58\u001b[0m \u001b[43m        \u001b[49m\u001b[43menable\u001b[49m\u001b[38;5;241;43m=\u001b[39;49m\u001b[43menable\u001b[49m\u001b[43m,\u001b[49m\n\u001b[0;32m     59\u001b[0m \u001b[43m        \u001b[49m\u001b[43mexclude\u001b[49m\u001b[38;5;241;43m=\u001b[39;49m\u001b[43mexclude\u001b[49m\u001b[43m,\u001b[49m\n\u001b[0;32m     60\u001b[0m \u001b[43m        \u001b[49m\u001b[43mconfig\u001b[49m\u001b[38;5;241;43m=\u001b[39;49m\u001b[43mconfig\u001b[49m\u001b[43m,\u001b[49m\n\u001b[0;32m     61\u001b[0m \u001b[43m    \u001b[49m\u001b[43m)\u001b[49m\n",
      "File \u001b[1;32m~\\anaconda3\\envs\\task6\\lib\\site-packages\\spacy\\util.py:439\u001b[0m, in \u001b[0;36mload_model\u001b[1;34m(name, vocab, disable, enable, exclude, config)\u001b[0m\n\u001b[0;32m    437\u001b[0m \u001b[38;5;28;01mif\u001b[39;00m name \u001b[38;5;129;01min\u001b[39;00m OLD_MODEL_SHORTCUTS:\n\u001b[0;32m    438\u001b[0m     \u001b[38;5;28;01mraise\u001b[39;00m \u001b[38;5;167;01mIOError\u001b[39;00m(Errors\u001b[38;5;241m.\u001b[39mE941\u001b[38;5;241m.\u001b[39mformat(name\u001b[38;5;241m=\u001b[39mname, full\u001b[38;5;241m=\u001b[39mOLD_MODEL_SHORTCUTS[name]))  \u001b[38;5;66;03m# type: ignore[index]\u001b[39;00m\n\u001b[1;32m--> 439\u001b[0m \u001b[38;5;28;01mraise\u001b[39;00m \u001b[38;5;167;01mIOError\u001b[39;00m(Errors\u001b[38;5;241m.\u001b[39mE050\u001b[38;5;241m.\u001b[39mformat(name\u001b[38;5;241m=\u001b[39mname))\n",
      "\u001b[1;31mOSError\u001b[0m: [E050] Can't find model 'en_core_web_sm'. It doesn't seem to be a Python package or a valid path to a data directory."
     ]
    }
   ],
   "source": [
    "# Load spacy English module\n",
    "NER = spacy.load(\"en_core_web_sm\")"
   ]
  },
  {
   "cell_type": "markdown",
   "id": "f5abe9eb-fea1-473f-8833-8371bf066a88",
   "metadata": {},
   "source": [
    "## 2. Importing Data\n"
   ]
  },
  {
   "cell_type": "code",
   "execution_count": 24,
   "id": "4b2ae9b4-c666-4447-b4ac-6f3be221f403",
   "metadata": {},
   "outputs": [],
   "source": [
    "# Load the article\n",
    "path = os.path.join('..', 'Data', '20th Century Events_sans_punc.txt')\n",
    "with open(path, 'r', errors='ignore') as file:\n",
    "    data = file.read().replace('\\n', '')"
   ]
  },
  {
   "cell_type": "code",
   "execution_count": 26,
   "id": "b2d591a6-79f1-47b8-ba9c-df83fa308b19",
   "metadata": {},
   "outputs": [],
   "source": [
    "# Import the list of countries as a dataframe\n",
    "path2 = os.path.join('..', 'Data')\n",
    "countries = pd.read_csv(os.path.join(path2, 'cleaned_countries_list.csv'), index_col = 0)"
   ]
  },
  {
   "cell_type": "code",
   "execution_count": null,
   "id": "e64eb214-1046-4e90-a555-0a4e2d2fdff9",
   "metadata": {},
   "outputs": [],
   "source": [
    "countries.shape"
   ]
  },
  {
   "cell_type": "code",
   "execution_count": null,
   "id": "da6b6272-1215-4242-aff5-07ac9346736f",
   "metadata": {},
   "outputs": [],
   "source": [
    "countries.head()"
   ]
  },
  {
   "cell_type": "markdown",
   "id": "f9bb14e5-c8c9-416d-9083-238caf4c2459",
   "metadata": {},
   "source": [
    "## 3. Creating NER Object"
   ]
  },
  {
   "cell_type": "code",
   "execution_count": 28,
   "id": "3a6cc16f-a675-4169-8291-b9fc1e7b90dd",
   "metadata": {},
   "outputs": [
    {
     "ename": "NameError",
     "evalue": "name 'NER' is not defined",
     "output_type": "error",
     "traceback": [
      "\u001b[1;31m---------------------------------------------------------------------------\u001b[0m",
      "\u001b[1;31mNameError\u001b[0m                                 Traceback (most recent call last)",
      "Cell \u001b[1;32mIn[28], line 2\u001b[0m\n\u001b[0;32m      1\u001b[0m \u001b[38;5;66;03m# Set the NER object\u001b[39;00m\n\u001b[1;32m----> 2\u001b[0m article \u001b[38;5;241m=\u001b[39m \u001b[43mNER\u001b[49m(data)\n",
      "\u001b[1;31mNameError\u001b[0m: name 'NER' is not defined"
     ]
    }
   ],
   "source": [
    "# Set the NER object\n",
    "article = NER(data)"
   ]
  },
  {
   "cell_type": "code",
   "execution_count": null,
   "id": "675f42c6-3296-4600-bf7e-7ad3232cd6db",
   "metadata": {},
   "outputs": [],
   "source": [
    "%%capture\n",
    "\n",
    "# Visualize identified entities\n",
    "displacy.render(article[273:20000], style = \"ent\", jupyter = True)"
   ]
  },
  {
   "cell_type": "markdown",
   "id": "20d16f9e-8a68-490f-8c0a-a3bb7680f51e",
   "metadata": {},
   "source": [
    "## 4. Splitting the Sentence Entities"
   ]
  },
  {
   "cell_type": "code",
   "execution_count": null,
   "id": "79d448d1-ce53-45c8-85c8-cd434628da4b",
   "metadata": {},
   "outputs": [],
   "source": [
    "# Create an empty shell to store results\n",
    "df_sentences = [] \n",
    "\n",
    "# Loop through sentences, to get entity list for each sentence\n",
    "for sent in article.sents:\n",
    "    entity_list = [ent.text for ent in sent.ents]\n",
    "    df_sentences.append({\"sentence\": sent, \"entities\": entity_list})\n",
    "    \n",
    "# Convert the list into a dataframe\n",
    "df_sentences = pd.DataFrame(df_sentences)"
   ]
  },
  {
   "cell_type": "code",
   "execution_count": null,
   "id": "9e3e8afa-0a7e-410d-bf28-cc2be3aae30a",
   "metadata": {},
   "outputs": [],
   "source": [
    "df_sentences.head(10)"
   ]
  },
  {
   "cell_type": "markdown",
   "id": "296a4f71-9e67-4738-97ce-06d4965a6c76",
   "metadata": {},
   "source": [
    "## 5. Filter the Entities Using the Country List\n"
   ]
  },
  {
   "cell_type": "code",
   "execution_count": null,
   "id": "e3202e97-b27b-45e0-8f49-968301ba4e00",
   "metadata": {},
   "outputs": [],
   "source": [
    "# A function to filter out entities not on the cleaned countries list\n",
    "def filter_entity(ent_list, countries):\n",
    "    return [ent for ent in ent_list \n",
    "            if ent in list(countries['clean_country_alias'])]"
   ]
  },
  {
   "cell_type": "code",
   "execution_count": null,
   "id": "3a01e060-5643-41f1-86ca-8b581b349143",
   "metadata": {},
   "outputs": [],
   "source": [
    "# Apply the function and store the results in a new column\n",
    "df_sentences['country_entities'] = df_sentences['entities'].apply(lambda x: filter_entity(x, countries))"
   ]
  },
  {
   "cell_type": "code",
   "execution_count": null,
   "id": "ed4600ad-aac7-4567-b4f4-681d8915b35b",
   "metadata": {},
   "outputs": [],
   "source": [
    "df_sentences.head(10)\n"
   ]
  },
  {
   "cell_type": "code",
   "execution_count": null,
   "id": "fd224833-6583-43fd-8e56-8810a60953dc",
   "metadata": {},
   "outputs": [],
   "source": [
    "# Filter out sentences that don't have any character entities\n",
    "df_sentences_filtered = df_sentences[df_sentences['country_entities'].map(len) > 0]\n",
    "df_sentences_filtered.head(10)"
   ]
  },
  {
   "cell_type": "markdown",
   "id": "7488808d-27dd-407b-9e74-60341d1d1fab",
   "metadata": {},
   "source": [
    "## 6. Create a Relationship Dataframe"
   ]
  },
  {
   "cell_type": "code",
   "execution_count": null,
   "id": "23f2f937-4e12-445c-931d-e3bbb8e9a8b0",
   "metadata": {},
   "outputs": [],
   "source": [
    "# Defining relationships \n",
    "\n",
    "# window size = 5 : this defines how many sentences will be looked at simultaneously \n",
    "relationships = [] # create an empty list\n",
    "\n",
    "for i in range(df_sentences_filtered.index[-1]):\n",
    "    end_i = min(i+5, df_sentences_filtered.index[-1])\n",
    "    country_list = sum((df_sentences_filtered.loc[i: end_i].country_entities), [])\n",
    "    \n",
    "    # Remove duplicated characters that are next to each other\n",
    "    country_unique = [country_list[i] for i in range(len(country_list)) \n",
    "                   if (i==0) or country_list[i] != country_list[i-1]]\n",
    "    \n",
    "    if len(country_unique) > 1:\n",
    "        for idx, a in enumerate(country_unique[:-1]):\n",
    "            b = country_unique[idx + 1]\n",
    "            relationships.append({\"source\": a, \"target\": b})"
   ]
  },
  {
   "cell_type": "code",
   "execution_count": null,
   "id": "0b54f1e7-d078-4e87-b271-7ede1d9ba123",
   "metadata": {},
   "outputs": [],
   "source": [
    "# Convert the list into a dataframe\n",
    "relationship_df = pd.DataFrame(relationships)"
   ]
  },
  {
   "cell_type": "code",
   "execution_count": null,
   "id": "84035f89-d64e-4093-96ff-8e6f4c833813",
   "metadata": {},
   "outputs": [],
   "source": [
    "# Sort the cases with a->b and b->a\n",
    "relationship_df = pd.DataFrame(np.sort(relationship_df.values, axis = 1), columns = relationship_df.columns)"
   ]
  },
  {
   "cell_type": "code",
   "execution_count": null,
   "id": "6a4af023-d443-41bf-a311-9d4f9e2416d3",
   "metadata": {},
   "outputs": [],
   "source": [
    "# Summarize the interactions by giving a value for every interaction captured, then group the interactions\n",
    "relationship_df[\"value\"] = 1\n",
    "relationship_df_grouped = relationship_df.groupby([\"source\",\"target\"], sort=False, as_index=False).sum()\n",
    "\n",
    "# the output\n",
    "relationship_df_grouped.head(10)"
   ]
  },
  {
   "cell_type": "markdown",
   "id": "34908c69-e168-431b-af91-4b0fda435370",
   "metadata": {},
   "source": [
    "## 7. Export the Data\n"
   ]
  },
  {
   "cell_type": "code",
   "execution_count": null,
   "id": "4e79ff72-8d48-4035-bbe1-f0b8feeaae21",
   "metadata": {},
   "outputs": [],
   "source": [
    "# Save the dataframe as a csv file\n",
    "relationship_df_grouped.to_csv(os.path.join(path2, 'country_relationships.csv'))"
   ]
  },
  {
   "cell_type": "code",
   "execution_count": null,
   "id": "ddcb6acf-be97-4b4e-a719-647e6c169e5e",
   "metadata": {},
   "outputs": [],
   "source": [
    "relationship_df_grouped.shape"
   ]
  },
  {
   "cell_type": "code",
   "execution_count": null,
   "id": "f2287631-d9c4-4f41-a2b2-b33f6da63a78",
   "metadata": {},
   "outputs": [],
   "source": []
  }
 ],
 "metadata": {
  "kernelspec": {
   "display_name": "task6",
   "language": "python",
   "name": "task6"
  },
  "language_info": {
   "codemirror_mode": {
    "name": "ipython",
    "version": 3
   },
   "file_extension": ".py",
   "mimetype": "text/x-python",
   "name": "python",
   "nbconvert_exporter": "python",
   "pygments_lexer": "ipython3",
   "version": "3.10.16"
  }
 },
 "nbformat": 4,
 "nbformat_minor": 5
}
