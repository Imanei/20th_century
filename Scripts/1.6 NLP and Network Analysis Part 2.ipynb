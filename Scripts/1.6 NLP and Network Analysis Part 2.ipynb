{
 "cells": [
  {
   "cell_type": "markdown",
   "id": "3edf26e0-8636-4a61-a1da-e5217adb3822",
   "metadata": {},
   "source": [
    "### This script contains the following:\n",
    "1. Importing Libraries\n",
    "2. Importing Data\n",
    "3. Creating Named Entity Recognition Object\n",
    "4. Splitting the Sentence Entities\n",
    "5. Filtering the Entities Using the Country List\n",
    "6. Creating a Relationship Dataframe\n",
    "7. Exporting the Data"
   ]
  },
  {
   "cell_type": "code",
   "execution_count": 1,
   "id": "8949f1d2-79ed-457b-b135-0bf44aac1a1a",
   "metadata": {},
   "outputs": [],
   "source": [
    "import pandas as pd\n",
    "import numpy as np\n",
    "import spacy\n",
    "from spacy import displacy\n",
    "import networkx as nx\n",
    "import os\n",
    "import matplotlib.pyplot as plt\n",
    "import scipy\n",
    "import re\n",
    "import nltk\n",
    "from nltk.tokenize import word_tokenize"
   ]
  },
  {
   "cell_type": "code",
   "execution_count": 3,
   "id": "2a3986d3-8dba-4d06-92b4-2d16d4123a3b",
   "metadata": {},
   "outputs": [
    {
     "name": "stderr",
     "output_type": "stream",
     "text": [
      "Traceback (most recent call last):\n",
      "  File \"C:\\Users\\hp\\anaconda3\\envs\\mining_env\\lib\\runpy.py\", line 187, in _run_module_as_main\n",
      "    mod_name, mod_spec, code = _get_module_details(mod_name, _Error)\n",
      "  File \"C:\\Users\\hp\\anaconda3\\envs\\mining_env\\lib\\runpy.py\", line 146, in _get_module_details\n",
      "    return _get_module_details(pkg_main_name, error)\n",
      "  File \"C:\\Users\\hp\\anaconda3\\envs\\mining_env\\lib\\runpy.py\", line 110, in _get_module_details\n",
      "    __import__(pkg_name)\n",
      "  File \"C:\\Users\\hp\\anaconda3\\envs\\mining_env\\lib\\site-packages\\spacy\\__init__.py\", line 6, in <module>\n",
      "    from .errors import setup_default_warnings\n",
      "  File \"C:\\Users\\hp\\anaconda3\\envs\\mining_env\\lib\\site-packages\\spacy\\errors.py\", line 2, in <module>\n",
      "    from .compat import Literal\n",
      "  File \"C:\\Users\\hp\\anaconda3\\envs\\mining_env\\lib\\site-packages\\spacy\\compat.py\", line 38, in <module>\n",
      "    from thinc.api import Optimizer  # noqa: F401\n",
      "  File \"C:\\Users\\hp\\anaconda3\\envs\\mining_env\\lib\\site-packages\\thinc\\api.py\", line 1, in <module>\n",
      "    from .backends import (\n",
      "  File \"C:\\Users\\hp\\anaconda3\\envs\\mining_env\\lib\\site-packages\\thinc\\backends\\__init__.py\", line 17, in <module>\n",
      "    from .cupy_ops import CupyOps\n",
      "  File \"C:\\Users\\hp\\anaconda3\\envs\\mining_env\\lib\\site-packages\\thinc\\backends\\cupy_ops.py\", line 16, in <module>\n",
      "    from .numpy_ops import NumpyOps\n",
      "  File \"thinc\\backends\\numpy_ops.pyx\", line 1, in init thinc.backends.numpy_ops\n",
      "ValueError: numpy.dtype size changed, may indicate binary incompatibility. Expected 96 from C header, got 88 from PyObject\n"
     ]
    }
   ],
   "source": [
    "!C:\\Users\\hp\\anaconda3\\envs\\mining_env\\python.exe -m spacy download en_core_web_sm\n"
   ]
  },
  {
   "cell_type": "code",
   "execution_count": 5,
   "id": "688164b0-1afd-4539-9715-8e95d7fc3c76",
   "metadata": {},
   "outputs": [],
   "source": [
    "# Load spacy English module\n",
    "NER = spacy.load(\"en_core_web_sm\")"
   ]
  },
  {
   "cell_type": "markdown",
   "id": "f5abe9eb-fea1-473f-8833-8371bf066a88",
   "metadata": {},
   "source": [
    "## 2. Importing Data\n"
   ]
  },
  {
   "cell_type": "code",
   "execution_count": 8,
   "id": "4b2ae9b4-c666-4447-b4ac-6f3be221f403",
   "metadata": {},
   "outputs": [],
   "source": [
    "# Load the article\n",
    "path = os.path.join('..', 'Data', '20th Century Events_sans_punc.txt')\n",
    "with open(path, 'r', errors='ignore') as file:\n",
    "    data = file.read().replace('\\n', '')"
   ]
  },
  {
   "cell_type": "code",
   "execution_count": 10,
   "id": "b2d591a6-79f1-47b8-ba9c-df83fa308b19",
   "metadata": {},
   "outputs": [],
   "source": [
    "# Import the list of countries as a dataframe\n",
    "path2 = os.path.join('..', 'Data')\n",
    "countries = pd.read_csv(os.path.join(path2, 'cleaned_countries_list.csv'), index_col = 0)"
   ]
  },
  {
   "cell_type": "code",
   "execution_count": 12,
   "id": "e64eb214-1046-4e90-a555-0a4e2d2fdff9",
   "metadata": {},
   "outputs": [
    {
     "data": {
      "text/plain": [
       "(214, 3)"
      ]
     },
     "execution_count": 12,
     "metadata": {},
     "output_type": "execute_result"
    }
   ],
   "source": [
    "countries.shape"
   ]
  },
  {
   "cell_type": "code",
   "execution_count": 14,
   "id": "da6b6272-1215-4242-aff5-07ac9346736f",
   "metadata": {},
   "outputs": [
    {
     "data": {
      "text/html": [
       "<div>\n",
       "<style scoped>\n",
       "    .dataframe tbody tr th:only-of-type {\n",
       "        vertical-align: middle;\n",
       "    }\n",
       "\n",
       "    .dataframe tbody tr th {\n",
       "        vertical-align: top;\n",
       "    }\n",
       "\n",
       "    .dataframe thead th {\n",
       "        text-align: right;\n",
       "    }\n",
       "</style>\n",
       "<table border=\"1\" class=\"dataframe\">\n",
       "  <thead>\n",
       "    <tr style=\"text-align: right;\">\n",
       "      <th></th>\n",
       "      <th>country_name</th>\n",
       "      <th>country_alias</th>\n",
       "      <th>clean_country_alias</th>\n",
       "    </tr>\n",
       "  </thead>\n",
       "  <tbody>\n",
       "    <tr>\n",
       "      <th>0</th>\n",
       "      <td>Afghanistan</td>\n",
       "      <td>Afghanistan</td>\n",
       "      <td>Afghanistan</td>\n",
       "    </tr>\n",
       "    <tr>\n",
       "      <th>1</th>\n",
       "      <td>Albania</td>\n",
       "      <td>Albania</td>\n",
       "      <td>Albania</td>\n",
       "    </tr>\n",
       "    <tr>\n",
       "      <th>2</th>\n",
       "      <td>Algeria</td>\n",
       "      <td>Algeria</td>\n",
       "      <td>Algeria</td>\n",
       "    </tr>\n",
       "    <tr>\n",
       "      <th>3</th>\n",
       "      <td>Andorra</td>\n",
       "      <td>Andorra</td>\n",
       "      <td>Andorra</td>\n",
       "    </tr>\n",
       "    <tr>\n",
       "      <th>4</th>\n",
       "      <td>Angola</td>\n",
       "      <td>Angola</td>\n",
       "      <td>Angola</td>\n",
       "    </tr>\n",
       "  </tbody>\n",
       "</table>\n",
       "</div>"
      ],
      "text/plain": [
       "    country_name  country_alias clean_country_alias\n",
       "0   Afghanistan    Afghanistan          Afghanistan\n",
       "1       Albania        Albania              Albania\n",
       "2       Algeria        Algeria              Algeria\n",
       "3       Andorra        Andorra              Andorra\n",
       "4        Angola         Angola               Angola"
      ]
     },
     "execution_count": 14,
     "metadata": {},
     "output_type": "execute_result"
    }
   ],
   "source": [
    "countries.head()"
   ]
  },
  {
   "cell_type": "markdown",
   "id": "f9bb14e5-c8c9-416d-9083-238caf4c2459",
   "metadata": {},
   "source": [
    "## 3. Creating NER Object"
   ]
  },
  {
   "cell_type": "code",
   "execution_count": 17,
   "id": "3a6cc16f-a675-4169-8291-b9fc1e7b90dd",
   "metadata": {},
   "outputs": [],
   "source": [
    "# Set the NER object\n",
    "article = NER(data)"
   ]
  },
  {
   "cell_type": "code",
   "execution_count": 19,
   "id": "675f42c6-3296-4600-bf7e-7ad3232cd6db",
   "metadata": {},
   "outputs": [],
   "source": [
    "%%capture\n",
    "\n",
    "# Visualize identified entities\n",
    "displacy.render(article[273:20000], style = \"ent\", jupyter = True)"
   ]
  },
  {
   "cell_type": "markdown",
   "id": "20d16f9e-8a68-490f-8c0a-a3bb7680f51e",
   "metadata": {},
   "source": [
    "## 4. Splitting the Sentence Entities"
   ]
  },
  {
   "cell_type": "code",
   "execution_count": 22,
   "id": "79d448d1-ce53-45c8-85c8-cd434628da4b",
   "metadata": {},
   "outputs": [],
   "source": [
    "# Create an empty shell to store results\n",
    "df_sentences = [] \n",
    "\n",
    "# Loop through sentences, to get entity list for each sentence\n",
    "for sent in article.sents:\n",
    "    entity_list = [ent.text for ent in sent.ents]\n",
    "    df_sentences.append({\"sentence\": sent, \"entities\": entity_list})\n",
    "    \n",
    "# Convert the list into a dataframe\n",
    "df_sentences = pd.DataFrame(df_sentences)"
   ]
  },
  {
   "cell_type": "code",
   "execution_count": 24,
   "id": "9e3e8afa-0a7e-410d-bf28-cc2be3aae30a",
   "metadata": {},
   "outputs": [
    {
     "data": {
      "text/html": [
       "<div>\n",
       "<style scoped>\n",
       "    .dataframe tbody tr th:only-of-type {\n",
       "        vertical-align: middle;\n",
       "    }\n",
       "\n",
       "    .dataframe tbody tr th {\n",
       "        vertical-align: top;\n",
       "    }\n",
       "\n",
       "    .dataframe thead th {\n",
       "        text-align: right;\n",
       "    }\n",
       "</style>\n",
       "<table border=\"1\" class=\"dataframe\">\n",
       "  <thead>\n",
       "    <tr style=\"text-align: right;\">\n",
       "      <th></th>\n",
       "      <th>sentence</th>\n",
       "      <th>entities</th>\n",
       "    </tr>\n",
       "  </thead>\n",
       "  <tbody>\n",
       "    <tr>\n",
       "      <th>0</th>\n",
       "      <td>(  )</td>\n",
       "      <td>[]</td>\n",
       "    </tr>\n",
       "    <tr>\n",
       "      <th>1</th>\n",
       "      <td>(Key,    , events,    , of,   , th,    , centu...</td>\n",
       "      <td>[Key    ]</td>\n",
       "    </tr>\n",
       "    <tr>\n",
       "      <th>2</th>\n",
       "      <td>(World,    , War,    )</td>\n",
       "      <td>[World    War    ]</td>\n",
       "    </tr>\n",
       "    <tr>\n",
       "      <th>3</th>\n",
       "      <td>(I,        , â€,    , “,           , .1.2Russi...</td>\n",
       "      <td>[]</td>\n",
       "    </tr>\n",
       "    <tr>\n",
       "      <th>4</th>\n",
       "      <td>(depression1.2.2The,    , rise,    , of,    , ...</td>\n",
       "      <td>[Pacific1.3.7.1Background1.3.8Japanese]</td>\n",
       "    </tr>\n",
       "    <tr>\n",
       "      <th>5</th>\n",
       "      <td>(   )</td>\n",
       "      <td>[]</td>\n",
       "    </tr>\n",
       "    <tr>\n",
       "      <th>6</th>\n",
       "      <td>(Nuclear,    , Age,    , begins1.4The,    , po...</td>\n",
       "      <td>[]</td>\n",
       "    </tr>\n",
       "    <tr>\n",
       "      <th>7</th>\n",
       "      <td>(proxy1.4.4The,    , space,    )</td>\n",
       "      <td>[]</td>\n",
       "    </tr>\n",
       "    <tr>\n",
       "      <th>8</th>\n",
       "      <td>(race1.4.5The,    , end,    , of,    , Cold,  ...</td>\n",
       "      <td>[]</td>\n",
       "    </tr>\n",
       "    <tr>\n",
       "      <th>9</th>\n",
       "      <td>(What,    , links,    , hereRelated,    , chan...</td>\n",
       "      <td>[URLDownload]</td>\n",
       "    </tr>\n",
       "  </tbody>\n",
       "</table>\n",
       "</div>"
      ],
      "text/plain": [
       "                                            sentence  \\\n",
       "0                                               (  )   \n",
       "1  (Key,    , events,    , of,   , th,    , centu...   \n",
       "2                             (World,    , War,    )   \n",
       "3  (I,        , â€,    , “,           , .1.2Russi...   \n",
       "4  (depression1.2.2The,    , rise,    , of,    , ...   \n",
       "5                                              (   )   \n",
       "6  (Nuclear,    , Age,    , begins1.4The,    , po...   \n",
       "7                   (proxy1.4.4The,    , space,    )   \n",
       "8  (race1.4.5The,    , end,    , of,    , Cold,  ...   \n",
       "9  (What,    , links,    , hereRelated,    , chan...   \n",
       "\n",
       "                                  entities  \n",
       "0                                       []  \n",
       "1                                [Key    ]  \n",
       "2                       [World    War    ]  \n",
       "3                                       []  \n",
       "4  [Pacific1.3.7.1Background1.3.8Japanese]  \n",
       "5                                       []  \n",
       "6                                       []  \n",
       "7                                       []  \n",
       "8                                       []  \n",
       "9                            [URLDownload]  "
      ]
     },
     "execution_count": 24,
     "metadata": {},
     "output_type": "execute_result"
    }
   ],
   "source": [
    "df_sentences.head(10)"
   ]
  },
  {
   "cell_type": "markdown",
   "id": "296a4f71-9e67-4738-97ce-06d4965a6c76",
   "metadata": {},
   "source": [
    "## 5. Filter the Entities Using the Country List\n"
   ]
  },
  {
   "cell_type": "code",
   "execution_count": 27,
   "id": "e3202e97-b27b-45e0-8f49-968301ba4e00",
   "metadata": {},
   "outputs": [],
   "source": [
    "# A function to filter out entities not on the cleaned countries list\n",
    "def filter_entity(ent_list, countries):\n",
    "    return [ent for ent in ent_list \n",
    "            if ent in list(countries['clean_country_alias'])]"
   ]
  },
  {
   "cell_type": "code",
   "execution_count": 29,
   "id": "3a01e060-5643-41f1-86ca-8b581b349143",
   "metadata": {},
   "outputs": [],
   "source": [
    "# Apply the function and store the results in a new column\n",
    "df_sentences['country_entities'] = df_sentences['entities'].apply(lambda x: filter_entity(x, countries))"
   ]
  },
  {
   "cell_type": "code",
   "execution_count": 31,
   "id": "ed4600ad-aac7-4567-b4f4-681d8915b35b",
   "metadata": {},
   "outputs": [
    {
     "data": {
      "text/html": [
       "<div>\n",
       "<style scoped>\n",
       "    .dataframe tbody tr th:only-of-type {\n",
       "        vertical-align: middle;\n",
       "    }\n",
       "\n",
       "    .dataframe tbody tr th {\n",
       "        vertical-align: top;\n",
       "    }\n",
       "\n",
       "    .dataframe thead th {\n",
       "        text-align: right;\n",
       "    }\n",
       "</style>\n",
       "<table border=\"1\" class=\"dataframe\">\n",
       "  <thead>\n",
       "    <tr style=\"text-align: right;\">\n",
       "      <th></th>\n",
       "      <th>sentence</th>\n",
       "      <th>entities</th>\n",
       "      <th>country_entities</th>\n",
       "    </tr>\n",
       "  </thead>\n",
       "  <tbody>\n",
       "    <tr>\n",
       "      <th>0</th>\n",
       "      <td>(  )</td>\n",
       "      <td>[]</td>\n",
       "      <td>[]</td>\n",
       "    </tr>\n",
       "    <tr>\n",
       "      <th>1</th>\n",
       "      <td>(Key,    , events,    , of,   , th,    , centu...</td>\n",
       "      <td>[Key    ]</td>\n",
       "      <td>[]</td>\n",
       "    </tr>\n",
       "    <tr>\n",
       "      <th>2</th>\n",
       "      <td>(World,    , War,    )</td>\n",
       "      <td>[World    War    ]</td>\n",
       "      <td>[]</td>\n",
       "    </tr>\n",
       "    <tr>\n",
       "      <th>3</th>\n",
       "      <td>(I,        , â€,    , “,           , .1.2Russi...</td>\n",
       "      <td>[]</td>\n",
       "      <td>[]</td>\n",
       "    </tr>\n",
       "    <tr>\n",
       "      <th>4</th>\n",
       "      <td>(depression1.2.2The,    , rise,    , of,    , ...</td>\n",
       "      <td>[Pacific1.3.7.1Background1.3.8Japanese]</td>\n",
       "      <td>[]</td>\n",
       "    </tr>\n",
       "    <tr>\n",
       "      <th>5</th>\n",
       "      <td>(   )</td>\n",
       "      <td>[]</td>\n",
       "      <td>[]</td>\n",
       "    </tr>\n",
       "    <tr>\n",
       "      <th>6</th>\n",
       "      <td>(Nuclear,    , Age,    , begins1.4The,    , po...</td>\n",
       "      <td>[]</td>\n",
       "      <td>[]</td>\n",
       "    </tr>\n",
       "    <tr>\n",
       "      <th>7</th>\n",
       "      <td>(proxy1.4.4The,    , space,    )</td>\n",
       "      <td>[]</td>\n",
       "      <td>[]</td>\n",
       "    </tr>\n",
       "    <tr>\n",
       "      <th>8</th>\n",
       "      <td>(race1.4.5The,    , end,    , of,    , Cold,  ...</td>\n",
       "      <td>[]</td>\n",
       "      <td>[]</td>\n",
       "    </tr>\n",
       "    <tr>\n",
       "      <th>9</th>\n",
       "      <td>(What,    , links,    , hereRelated,    , chan...</td>\n",
       "      <td>[URLDownload]</td>\n",
       "      <td>[]</td>\n",
       "    </tr>\n",
       "  </tbody>\n",
       "</table>\n",
       "</div>"
      ],
      "text/plain": [
       "                                            sentence  \\\n",
       "0                                               (  )   \n",
       "1  (Key,    , events,    , of,   , th,    , centu...   \n",
       "2                             (World,    , War,    )   \n",
       "3  (I,        , â€,    , “,           , .1.2Russi...   \n",
       "4  (depression1.2.2The,    , rise,    , of,    , ...   \n",
       "5                                              (   )   \n",
       "6  (Nuclear,    , Age,    , begins1.4The,    , po...   \n",
       "7                   (proxy1.4.4The,    , space,    )   \n",
       "8  (race1.4.5The,    , end,    , of,    , Cold,  ...   \n",
       "9  (What,    , links,    , hereRelated,    , chan...   \n",
       "\n",
       "                                  entities country_entities  \n",
       "0                                       []               []  \n",
       "1                                [Key    ]               []  \n",
       "2                       [World    War    ]               []  \n",
       "3                                       []               []  \n",
       "4  [Pacific1.3.7.1Background1.3.8Japanese]               []  \n",
       "5                                       []               []  \n",
       "6                                       []               []  \n",
       "7                                       []               []  \n",
       "8                                       []               []  \n",
       "9                            [URLDownload]               []  "
      ]
     },
     "execution_count": 31,
     "metadata": {},
     "output_type": "execute_result"
    }
   ],
   "source": [
    "df_sentences.head(10)\n"
   ]
  },
  {
   "cell_type": "code",
   "execution_count": 35,
   "id": "fd224833-6583-43fd-8e56-8810a60953dc",
   "metadata": {},
   "outputs": [
    {
     "data": {
      "text/html": [
       "<div>\n",
       "<style scoped>\n",
       "    .dataframe tbody tr th:only-of-type {\n",
       "        vertical-align: middle;\n",
       "    }\n",
       "\n",
       "    .dataframe tbody tr th {\n",
       "        vertical-align: top;\n",
       "    }\n",
       "\n",
       "    .dataframe thead th {\n",
       "        text-align: right;\n",
       "    }\n",
       "</style>\n",
       "<table border=\"1\" class=\"dataframe\">\n",
       "  <thead>\n",
       "    <tr style=\"text-align: right;\">\n",
       "      <th></th>\n",
       "      <th>sentence</th>\n",
       "      <th>entities</th>\n",
       "      <th>country_entities</th>\n",
       "    </tr>\n",
       "  </thead>\n",
       "  <tbody>\n",
       "    <tr>\n",
       "      <th>28</th>\n",
       "      <td>(After,    , a,    , period,    , of,    , dip...</td>\n",
       "      <td>[two, Austria]</td>\n",
       "      <td>[Austria]</td>\n",
       "    </tr>\n",
       "    <tr>\n",
       "      <th>29</th>\n",
       "      <td>(In,            , Russia,    , ended,    , hos...</td>\n",
       "      <td>[Russia]</td>\n",
       "      <td>[Russia]</td>\n",
       "    </tr>\n",
       "    <tr>\n",
       "      <th>30</th>\n",
       "      <td>(Bolsheviks,    , negotiated,    , Treaty,    ...</td>\n",
       "      <td>[Russia]</td>\n",
       "      <td>[Russia]</td>\n",
       "    </tr>\n",
       "    <tr>\n",
       "      <th>31</th>\n",
       "      <td>(In,    , treaty,         , Bolshevik,    , Ru...</td>\n",
       "      <td>[Russia, Baltic]</td>\n",
       "      <td>[Russia]</td>\n",
       "    </tr>\n",
       "    <tr>\n",
       "      <th>42</th>\n",
       "      <td>(Division,    , of,    , Austria, -, Hungary, ...</td>\n",
       "      <td>[Austria, World    War    ]</td>\n",
       "      <td>[Austria]</td>\n",
       "    </tr>\n",
       "    <tr>\n",
       "      <th>106</th>\n",
       "      <td>(Spain,    , also,    , became,    , a,    , d...</td>\n",
       "      <td>[Spain]</td>\n",
       "      <td>[Spain]</td>\n",
       "    </tr>\n",
       "    <tr>\n",
       "      <th>125</th>\n",
       "      <td>(As,    , Hitler,   , \", s, \",   , forces,    ...</td>\n",
       "      <td>[the Soviet Union]</td>\n",
       "      <td>[the Soviet Union]</td>\n",
       "    </tr>\n",
       "    <tr>\n",
       "      <th>144</th>\n",
       "      <td>(debacle,    , in,    , France,    , also,    ...</td>\n",
       "      <td>[France]</td>\n",
       "      <td>[France]</td>\n",
       "    </tr>\n",
       "    <tr>\n",
       "      <th>175</th>\n",
       "      <td>(However,         , a,    , pro, -, allied,   ...</td>\n",
       "      <td>[Yugoslavia, Yugoslavia]</td>\n",
       "      <td>[Yugoslavia, Yugoslavia]</td>\n",
       "    </tr>\n",
       "    <tr>\n",
       "      <th>189</th>\n",
       "      <td>(Mussolini,    , had,    , launched,    , an, ...</td>\n",
       "      <td>[Italian, British, Egypt]</td>\n",
       "      <td>[Egypt]</td>\n",
       "    </tr>\n",
       "  </tbody>\n",
       "</table>\n",
       "</div>"
      ],
      "text/plain": [
       "                                              sentence  \\\n",
       "28   (After,    , a,    , period,    , of,    , dip...   \n",
       "29   (In,            , Russia,    , ended,    , hos...   \n",
       "30   (Bolsheviks,    , negotiated,    , Treaty,    ...   \n",
       "31   (In,    , treaty,         , Bolshevik,    , Ru...   \n",
       "42   (Division,    , of,    , Austria, -, Hungary, ...   \n",
       "106  (Spain,    , also,    , became,    , a,    , d...   \n",
       "125  (As,    , Hitler,   , \", s, \",   , forces,    ...   \n",
       "144  (debacle,    , in,    , France,    , also,    ...   \n",
       "175  (However,         , a,    , pro, -, allied,   ...   \n",
       "189  (Mussolini,    , had,    , launched,    , an, ...   \n",
       "\n",
       "                        entities          country_entities  \n",
       "28                [two, Austria]                 [Austria]  \n",
       "29                      [Russia]                  [Russia]  \n",
       "30                      [Russia]                  [Russia]  \n",
       "31              [Russia, Baltic]                  [Russia]  \n",
       "42   [Austria, World    War    ]                 [Austria]  \n",
       "106                      [Spain]                   [Spain]  \n",
       "125           [the Soviet Union]        [the Soviet Union]  \n",
       "144                     [France]                  [France]  \n",
       "175     [Yugoslavia, Yugoslavia]  [Yugoslavia, Yugoslavia]  \n",
       "189    [Italian, British, Egypt]                   [Egypt]  "
      ]
     },
     "execution_count": 35,
     "metadata": {},
     "output_type": "execute_result"
    }
   ],
   "source": [
    "# Filter out sentences that don't have any character entities\n",
    "df_sentences_filtered = df_sentences[df_sentences['country_entities'].map(len) > 0]\n",
    "df_sentences_filtered.head(10)"
   ]
  },
  {
   "cell_type": "markdown",
   "id": "7488808d-27dd-407b-9e74-60341d1d1fab",
   "metadata": {},
   "source": [
    "## 6. Create a Relationship Dataframe"
   ]
  },
  {
   "cell_type": "code",
   "execution_count": 38,
   "id": "23f2f937-4e12-445c-931d-e3bbb8e9a8b0",
   "metadata": {},
   "outputs": [],
   "source": [
    "# Defining relationships \n",
    "\n",
    "# window size = 5 : this defines how many sentences will be looked at simultaneously \n",
    "relationships = [] # create an empty list\n",
    "\n",
    "for i in range(df_sentences_filtered.index[-1]):\n",
    "    end_i = min(i+5, df_sentences_filtered.index[-1])\n",
    "    country_list = sum((df_sentences_filtered.loc[i: end_i].country_entities), [])\n",
    "    \n",
    "    # Remove duplicated characters that are next to each other\n",
    "    country_unique = [country_list[i] for i in range(len(country_list)) \n",
    "                   if (i==0) or country_list[i] != country_list[i-1]]\n",
    "    \n",
    "    if len(country_unique) > 1:\n",
    "        for idx, a in enumerate(country_unique[:-1]):\n",
    "            b = country_unique[idx + 1]\n",
    "            relationships.append({\"source\": a, \"target\": b})"
   ]
  },
  {
   "cell_type": "code",
   "execution_count": 40,
   "id": "0b54f1e7-d078-4e87-b271-7ede1d9ba123",
   "metadata": {},
   "outputs": [],
   "source": [
    "# Convert the list into a dataframe\n",
    "relationship_df = pd.DataFrame(relationships)"
   ]
  },
  {
   "cell_type": "code",
   "execution_count": 42,
   "id": "84035f89-d64e-4093-96ff-8e6f4c833813",
   "metadata": {},
   "outputs": [],
   "source": [
    "# Sort the cases with a->b and b->a\n",
    "relationship_df = pd.DataFrame(np.sort(relationship_df.values, axis = 1), columns = relationship_df.columns)"
   ]
  },
  {
   "cell_type": "code",
   "execution_count": 44,
   "id": "6a4af023-d443-41bf-a311-9d4f9e2416d3",
   "metadata": {},
   "outputs": [
    {
     "data": {
      "text/html": [
       "<div>\n",
       "<style scoped>\n",
       "    .dataframe tbody tr th:only-of-type {\n",
       "        vertical-align: middle;\n",
       "    }\n",
       "\n",
       "    .dataframe tbody tr th {\n",
       "        vertical-align: top;\n",
       "    }\n",
       "\n",
       "    .dataframe thead th {\n",
       "        text-align: right;\n",
       "    }\n",
       "</style>\n",
       "<table border=\"1\" class=\"dataframe\">\n",
       "  <thead>\n",
       "    <tr style=\"text-align: right;\">\n",
       "      <th></th>\n",
       "      <th>source</th>\n",
       "      <th>target</th>\n",
       "      <th>value</th>\n",
       "    </tr>\n",
       "  </thead>\n",
       "  <tbody>\n",
       "    <tr>\n",
       "      <th>0</th>\n",
       "      <td>Austria</td>\n",
       "      <td>Russia</td>\n",
       "      <td>5</td>\n",
       "    </tr>\n",
       "    <tr>\n",
       "      <th>1</th>\n",
       "      <td>Germany</td>\n",
       "      <td>the United States</td>\n",
       "      <td>5</td>\n",
       "    </tr>\n",
       "    <tr>\n",
       "      <th>2</th>\n",
       "      <td>Russia</td>\n",
       "      <td>the United States</td>\n",
       "      <td>7</td>\n",
       "    </tr>\n",
       "    <tr>\n",
       "      <th>3</th>\n",
       "      <td>China</td>\n",
       "      <td>Japan</td>\n",
       "      <td>9</td>\n",
       "    </tr>\n",
       "    <tr>\n",
       "      <th>4</th>\n",
       "      <td>Australia</td>\n",
       "      <td>Japan</td>\n",
       "      <td>4</td>\n",
       "    </tr>\n",
       "    <tr>\n",
       "      <th>5</th>\n",
       "      <td>Japan</td>\n",
       "      <td>the United States</td>\n",
       "      <td>14</td>\n",
       "    </tr>\n",
       "    <tr>\n",
       "      <th>6</th>\n",
       "      <td>China</td>\n",
       "      <td>the United States</td>\n",
       "      <td>5</td>\n",
       "    </tr>\n",
       "    <tr>\n",
       "      <th>7</th>\n",
       "      <td>Germany</td>\n",
       "      <td>Japan</td>\n",
       "      <td>3</td>\n",
       "    </tr>\n",
       "    <tr>\n",
       "      <th>8</th>\n",
       "      <td>Cuba</td>\n",
       "      <td>the United States</td>\n",
       "      <td>2</td>\n",
       "    </tr>\n",
       "    <tr>\n",
       "      <th>9</th>\n",
       "      <td>the Soviet Union</td>\n",
       "      <td>the United States</td>\n",
       "      <td>5</td>\n",
       "    </tr>\n",
       "  </tbody>\n",
       "</table>\n",
       "</div>"
      ],
      "text/plain": [
       "             source             target  value\n",
       "0           Austria             Russia      5\n",
       "1           Germany  the United States      5\n",
       "2            Russia  the United States      7\n",
       "3             China              Japan      9\n",
       "4         Australia              Japan      4\n",
       "5             Japan  the United States     14\n",
       "6             China  the United States      5\n",
       "7           Germany              Japan      3\n",
       "8              Cuba  the United States      2\n",
       "9  the Soviet Union  the United States      5"
      ]
     },
     "execution_count": 44,
     "metadata": {},
     "output_type": "execute_result"
    }
   ],
   "source": [
    "# Summarize the interactions by giving a value for every interaction captured, then group the interactions\n",
    "relationship_df[\"value\"] = 1\n",
    "relationship_df_grouped = relationship_df.groupby([\"source\",\"target\"], sort=False, as_index=False).sum()\n",
    "\n",
    "# the output\n",
    "relationship_df_grouped.head(10)"
   ]
  },
  {
   "cell_type": "markdown",
   "id": "34908c69-e168-431b-af91-4b0fda435370",
   "metadata": {},
   "source": [
    "## 7. Export the Data\n"
   ]
  },
  {
   "cell_type": "code",
   "execution_count": 47,
   "id": "4e79ff72-8d48-4035-bbe1-f0b8feeaae21",
   "metadata": {},
   "outputs": [],
   "source": [
    "# Save the dataframe as a csv file\n",
    "relationship_df_grouped.to_csv(os.path.join(path2, 'country_relationships.csv'))"
   ]
  },
  {
   "cell_type": "code",
   "execution_count": null,
   "id": "ddcb6acf-be97-4b4e-a719-647e6c169e5e",
   "metadata": {},
   "outputs": [],
   "source": []
  }
 ],
 "metadata": {
  "kernelspec": {
   "display_name": "task6",
   "language": "python",
   "name": "task6"
  },
  "language_info": {
   "codemirror_mode": {
    "name": "ipython",
    "version": 3
   },
   "file_extension": ".py",
   "mimetype": "text/x-python",
   "name": "python",
   "nbconvert_exporter": "python",
   "pygments_lexer": "ipython3",
   "version": "3.10.16"
  }
 },
 "nbformat": 4,
 "nbformat_minor": 5
}
