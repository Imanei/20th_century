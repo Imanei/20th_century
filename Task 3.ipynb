{
 "cells": [
  {
   "cell_type": "code",
   "execution_count": 3,
   "id": "e92d990d-3054-4f2e-8a37-306ecdb80dcb",
   "metadata": {},
   "outputs": [],
   "source": [
    "#Importing libraries\n",
    "import pandas as pd\n",
    "import numpy as np"
   ]
  },
  {
   "cell_type": "code",
   "execution_count": 7,
   "id": "193c58e8-79a3-4dff-9d06-668266eb8042",
   "metadata": {},
   "outputs": [],
   "source": [
    "# Defining data \n",
    "data = {\n",
    "    \"Grade\": [10, 20, 14, 7, 18],  \n",
    "    \"Student\": [\"Student_A\", \"Student_B\", \"Student_C\", \"Student_D\", \"Student_E\"]  \n",
    "}\n",
    "\n",
    "# Creating DataFrame\n",
    "test_df = pd.DataFrame(data)"
   ]
  },
  {
   "cell_type": "code",
   "execution_count": 9,
   "id": "c0efdd55-b1f1-4143-a782-cd4b60c73785",
   "metadata": {},
   "outputs": [
    {
     "name": "stdout",
     "output_type": "stream",
     "text": [
      "   Grade    Student  Numeric_Plus_1\n",
      "0     10  Student_A              11\n",
      "1     20  Student_B              21\n",
      "2     14  Student_C              15\n",
      "3      7  Student_D               8\n",
      "4     18  Student_E              19\n"
     ]
    }
   ],
   "source": [
    "# Adding a new column by performing a mathematical operation \n",
    "test_df[\"Numeric_Plus_1\"] = test_df[\"Grade\"].apply(lambda x: x + 1)\n",
    "\n",
    "# Display the DataFrame\n",
    "print(test_df)"
   ]
  },
  {
   "cell_type": "code",
   "execution_count": 13,
   "id": "ee59c185-b992-40df-891c-3d7d3f09ce41",
   "metadata": {},
   "outputs": [],
   "source": [
    "# Adding a label column \n",
    "test_df['results'] = test_df['Numeric_Plus_1'].apply(\n",
    "    lambda x: 'Qualified' if x >= 10 else 'Not Qualified'\n",
    ")"
   ]
  },
  {
   "cell_type": "code",
   "execution_count": 15,
   "id": "6d244198-31ae-4463-82a3-d485cf927318",
   "metadata": {},
   "outputs": [
    {
     "name": "stdout",
     "output_type": "stream",
     "text": [
      "   Grade    Student  Numeric_Plus_1        results\n",
      "0     10  Student_A              11      Qualified\n",
      "1     20  Student_B              21      Qualified\n",
      "2     14  Student_C              15      Qualified\n",
      "3      7  Student_D               8  Not Qualified\n",
      "4     18  Student_E              19      Qualified\n"
     ]
    }
   ],
   "source": [
    "# Display the DataFrame\n",
    "print(test_df)"
   ]
  },
  {
   "cell_type": "code",
   "execution_count": null,
   "id": "d69dae34-3fb8-4d85-9107-00798718161f",
   "metadata": {},
   "outputs": [],
   "source": []
  }
 ],
 "metadata": {
  "kernelspec": {
   "display_name": "Python [conda env:anaconda3-20th_century]",
   "language": "python",
   "name": "conda-env-anaconda3-20th_century-py"
  },
  "language_info": {
   "codemirror_mode": {
    "name": "ipython",
    "version": 3
   },
   "file_extension": ".py",
   "mimetype": "text/x-python",
   "name": "python",
   "nbconvert_exporter": "python",
   "pygments_lexer": "ipython3",
   "version": "3.12.8"
  }
 },
 "nbformat": 4,
 "nbformat_minor": 5
}
