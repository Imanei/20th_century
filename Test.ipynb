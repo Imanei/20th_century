#This is a test
import numpy as np

array = np.array([1, 2, 3, 4, 5])
print("Array:", array)
print("Mean of the array:", np.mean(array))
